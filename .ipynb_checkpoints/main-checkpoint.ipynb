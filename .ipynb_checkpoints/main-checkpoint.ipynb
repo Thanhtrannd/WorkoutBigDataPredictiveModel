{
 "cells": [
  {
   "cell_type": "markdown",
   "metadata": {},
   "source": [
    "Authors: Thanh Tran (000285359), Nghia Nguyen (000275466)\n",
    "Course: Big Data in Business and Industry\n",
    "    PRACTICAL ASSIGNMENT: PREDICTIVE MODEL OF WORKOUT DATA"
   ]
  },
  {
   "cell_type": "code",
   "execution_count": null,
   "metadata": {},
   "outputs": [],
   "source": [
    "print('hello')"
   ]
  },
  {
   "cell_type": "markdown",
   "metadata": {},
   "source": []
  }
 ],
 "metadata": {
  "kernelspec": {
   "display_name": "Python 3 (ipykernel)",
   "language": "python",
   "name": "python3"
  },
  "language_info": {
   "codemirror_mode": {
    "name": "ipython",
    "version": 3
   },
   "file_extension": ".py",
   "mimetype": "text/x-python",
   "name": "python",
   "nbconvert_exporter": "python",
   "pygments_lexer": "ipython3",
   "version": "3.9.12"
  },
  "vscode": {
   "interpreter": {
    "hash": "e3a18842cd88223d2eea50a134bb96e0584ccfa9a42436ff53b4efa05bbcefc4"
   }
  }
 },
 "nbformat": 4,
 "nbformat_minor": 2
}
